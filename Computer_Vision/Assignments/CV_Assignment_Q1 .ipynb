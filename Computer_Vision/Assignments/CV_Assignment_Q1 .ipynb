{
 "cells": [
  {
   "cell_type": "markdown",
   "metadata": {},
   "source": [
    "# Assignment 1\n",
    "find b in the following using the least square equation to minimize.\n",
    "<p align=\"center\">\n",
    "    <img src=\"https://latex.codecogs.com/gif.latex?%5Cdpi%7B150%7D%20%5Clarge%20%7C%7CAt-b%7C%7C%5E2\"/>\n",
    "</p>\n",
    "\n",
    "## Q1.  \n",
    "## find x and y.  \n",
    "<p align=\"center\">\n",
    "    <img src=\"https://latex.codecogs.com/gif.latex?%5Cdpi%7B150%7D%20%5Clarge%20%5Cbegin%7Bbmatrix%7D%202%260%20%5C%5C%200%261%20%5C%5C%202%262%20%5Cend%7Bbmatrix%7D%20%5Cbegin%7Bbmatrix%7D%20x%5C%5C%20y%20%5Cend%7Bbmatrix%7D%20%3D%20%5Cbegin%7Bbmatrix%7D%201%20%5C%5C%202%20%5C%5C%203%20%5Cend%7Bbmatrix%7D\"/>\n",
    "</p>\n",
    "\n",
    "## Q2.  \n",
    "## find x, y and z.  \n",
    "<p align=\"center\">\n",
    "    <img src=\"https://latex.codecogs.com/gif.latex?%5Cdpi%7B150%7D%20%5Clarge%20%5Cbegin%7Bbmatrix%7D%201%26-2%264%20%5C%5C%201%26-1%261%20%5C%5C%201%260%260%20%5C%5C%201%261%261%20%5C%5C%201%264%264%20%5Cend%7Bbmatrix%7D%20%5Cbegin%7Bbmatrix%7D%20x%5C%5C%20y%5C%5C%20z%5C%5C%20%5Cend%7Bbmatrix%7D%20%3D%20%5Cbegin%7Bbmatrix%7D%200%20%5C%5C%200%20%5C%5C%201%20%5C%5C%200%20%5C%5C%200%20%5C%5C%20%5Cend%7Bbmatrix%7D\"/>\n",
    "</p>\n",
    "\n",
    "## Q3.  \n",
    "## find x and y.  \n",
    "<p align=\"center\">\n",
    "    <img src=\"https://latex.codecogs.com/gif.latex?%5Cdpi%7B150%7D%20%5Clarge%20%5Cbegin%7Bbmatrix%7D%203%26-6%20%5C%5C%204%26-8%20%5C%5C%200%261%20%5Cend%7Bbmatrix%7D%20%5Cbegin%7Bbmatrix%7D%20x%5C%5C%20y%20%5Cend%7Bbmatrix%7D%20%3D%20%5Cbegin%7Bbmatrix%7D%20-1%20%5C%5C%207%20%5C%5C%202%20%5Cend%7Bbmatrix%7D\"/>\n",
    "</p>\n",
    "\n",
    "### this is solved using the following quation:\n",
    "<p align=\"center\">\n",
    "    <img src=\"https://latex.codecogs.com/gif.latex?%5Cdpi%7B150%7D%20%5Clarge%20%28A%5E%7BT%7DA%29%5E%7B-1%7DA%5E%7BT%7Db\"/>\n",
    "</p>"
   ]
  },
  {
   "cell_type": "code",
   "execution_count": 2,
   "metadata": {
    "collapsed": true
   },
   "outputs": [],
   "source": [
    "import numpy as np"
   ]
  },
  {
   "cell_type": "markdown",
   "metadata": {},
   "source": [
    "## Answer 1."
   ]
  },
  {
   "cell_type": "code",
   "execution_count": 30,
   "metadata": {},
   "outputs": [
    {
     "name": "stdout",
     "output_type": "stream",
     "text": [
      "A = \n",
      " [[2 0]\n",
      " [0 1]\n",
      " [2 2]]\n",
      "b = \n",
      " [[1]\n",
      " [2]\n",
      " [3]]\n",
      "[X,Y] = [[ 0.33333333]][[ 1.33333333]]"
     ]
    }
   ],
   "source": [
    "A = np.matrix([[2,0],[0,1],[2,2]])\n",
    "b = np.matrix([[1],[2],[3]])\n",
    "print(\"A = \\n\",A)\n",
    "print(\"b = \\n\",b)\n",
    "x = np.dot(A.getT(),A)\n",
    "x = x.getI()\n",
    "\n",
    "y = np.dot(A.getT(),b)\n",
    "\n",
    "ans = np.dot(x, y)\n",
    "print(\"\\n[X,Y] = \", end = \"\")\n",
    "for i in ans:\n",
    "    print(\"{}\".format(i),end=\"\")"
   ]
  },
  {
   "cell_type": "markdown",
   "metadata": {},
   "source": [
    "## Answer 2."
   ]
  },
  {
   "cell_type": "code",
   "execution_count": 31,
   "metadata": {},
   "outputs": [
    {
     "name": "stdout",
     "output_type": "stream",
     "text": [
      "A = \n",
      " [[ 1 -2  4]\n",
      " [ 1 -1  1]\n",
      " [ 1  0  0]\n",
      " [ 1  1  1]\n",
      " [ 1  4  4]]\n",
      "b = \n",
      " [[0]\n",
      " [0]\n",
      " [1]\n",
      " [0]\n",
      " [0]]\n",
      "[X,Y] = [[ 0.48717949]][[ 0.00854701]][[-0.14529915]]"
     ]
    }
   ],
   "source": [
    "A = np.matrix([[1,-2,4],[1,-1,1],[1,0,0],[1,1,1],[1,4,4]])\n",
    "b = np.matrix([[0],[0],[1],[0],[0]])\n",
    "print(\"A = \\n\",A)\n",
    "print(\"b = \\n\",b)\n",
    "x = np.dot(A.getT(),A)\n",
    "x = x.getI()\n",
    "\n",
    "y = np.dot(A.getT(),b)\n",
    "\n",
    "ans = np.dot(x, y)\n",
    "print(\"\\n[X,Y] = \", end = \"\")\n",
    "for i in ans:\n",
    "    print(\"{}\".format(i),end=\"\")"
   ]
  },
  {
   "cell_type": "markdown",
   "metadata": {},
   "source": [
    "## Answer 3."
   ]
  },
  {
   "cell_type": "code",
   "execution_count": 32,
   "metadata": {},
   "outputs": [
    {
     "name": "stdout",
     "output_type": "stream",
     "text": [
      "A = \n",
      " [[ 3 -6]\n",
      " [ 4 -8]\n",
      " [ 0  1]]\n",
      "b = \n",
      " [[-1]\n",
      " [ 7]\n",
      " [ 2]]\n",
      "[X,Y] = [[ 5.]][[ 2.]]"
     ]
    }
   ],
   "source": [
    "A = np.matrix([[3,-6],[4,-8],[0,1]])\n",
    "b = np.matrix([[-1],[7],[2]])\n",
    "print(\"A = \\n\",A)\n",
    "print(\"b = \\n\",b)\n",
    "x = np.dot(A.getT(),A)\n",
    "x = x.getI()\n",
    "\n",
    "y = np.dot(A.getT(),b)\n",
    "\n",
    "ans = np.dot(x, y)\n",
    "print(\"\\n[X,Y] = \", end = \"\")\n",
    "for i in ans:\n",
    "    print(\"{}\".format(i),end=\"\")"
   ]
  },
  {
   "cell_type": "code",
   "execution_count": null,
   "metadata": {
    "collapsed": true
   },
   "outputs": [],
   "source": []
  }
 ],
 "metadata": {
  "kernelspec": {
   "display_name": "Python 3",
   "language": "python",
   "name": "python3"
  },
  "language_info": {
   "codemirror_mode": {
    "name": "ipython",
    "version": 3
   },
   "file_extension": ".py",
   "mimetype": "text/x-python",
   "name": "python",
   "nbconvert_exporter": "python",
   "pygments_lexer": "ipython3",
   "version": "3.6.1"
  }
 },
 "nbformat": 4,
 "nbformat_minor": 2
}
